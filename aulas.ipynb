{
  "cells": [
    {
      "cell_type": "markdown",
      "metadata": {
        "id": "kI0ancAJa-9G"
      },
      "source": [
        "# Arrays Numpy: criação, indexação e manipulação"
      ]
    },
    {
      "cell_type": "code",
      "execution_count": 1,
      "metadata": {
        "id": "iWvR_WkTa-9I"
      },
      "outputs": [],
      "source": [
        "import numpy as np"
      ]
    },
    {
      "cell_type": "code",
      "execution_count": null,
      "metadata": {
        "id": "bnEmIGdNa-9J",
        "outputId": "66787d96-b208-4d77-a918-5b3a204db36f"
      },
      "outputs": [
        {
          "name": "stdout",
          "output_type": "stream",
          "text": [
            "Array 1D: [1 2 3 4 5]\n"
          ]
        }
      ],
      "source": [
        "# Criando um array 1D\n",
        "arr1 = np.array([1, 2, 3, 4, 5])\n",
        "print(\"Array 1D:\", arr1)"
      ]
    },
    {
      "cell_type": "code",
      "execution_count": null,
      "metadata": {
        "id": "TvHJuBNza-9K",
        "outputId": "3d083731-e46b-4164-d61e-2e0680d9b149"
      },
      "outputs": [
        {
          "name": "stdout",
          "output_type": "stream",
          "text": [
            "\n",
            "Array 2D (matriz):\n",
            "[[1 2 3]\n",
            " [4 5 6]]\n"
          ]
        }
      ],
      "source": [
        "# Criando um array 2D (matriz)\n",
        "arr2 = np.array([[1, 2, 3],\n",
        "                 [4, 5, 6]])\n",
        "print(\"\\nArray 2D (matriz):\")\n",
        "print(arr2)"
      ]
    },
    {
      "cell_type": "code",
      "execution_count": null,
      "metadata": {
        "id": "6KavwE1Ra-9L",
        "outputId": "fe01eb57-c7bb-4281-cd68-1eac9e615c0c"
      },
      "outputs": [
        {
          "name": "stdout",
          "output_type": "stream",
          "text": [
            "\n",
            "Array de zeros: [0. 0. 0. 0. 0.]\n"
          ]
        }
      ],
      "source": [
        "# Criando array com zeros\n",
        "zeros_arr = np.zeros(5)\n",
        "print(\"\\nArray de zeros:\", zeros_arr)"
      ]
    },
    {
      "cell_type": "code",
      "execution_count": null,
      "metadata": {
        "id": "mmsu9L_xa-9L",
        "outputId": "e5c29c84-a05f-45bf-aa2a-f9dda038d45a"
      },
      "outputs": [
        {
          "name": "stdout",
          "output_type": "stream",
          "text": [
            "\n",
            "Array de uns:\n",
            "[[1. 1. 1.]\n",
            " [1. 1. 1.]]\n"
          ]
        }
      ],
      "source": [
        "# Criando array com uns\n",
        "ones_arr = np.ones((2, 3))\n",
        "print(\"\\nArray de uns:\")\n",
        "print(ones_arr)"
      ]
    },
    {
      "cell_type": "code",
      "source": [
        "# Método Matrix - String\n",
        "\n",
        "a = np.matrix('1 2; 3 4')\n",
        "print(a)"
      ],
      "metadata": {
        "colab": {
          "base_uri": "https://localhost:8080/"
        },
        "id": "MKh_JrrQg5OV",
        "outputId": "50a027dc-35ae-46b2-ee65-155c3c9484d4"
      },
      "execution_count": 16,
      "outputs": [
        {
          "output_type": "stream",
          "name": "stdout",
          "text": [
            "[[1 2]\n",
            " [3 4]]\n"
          ]
        }
      ]
    },
    {
      "cell_type": "code",
      "source": [
        "# Método Matrix - List/array\n",
        "b = np.matrix([[1, 2], [3, 4]])\n",
        "print(b)"
      ],
      "metadata": {
        "colab": {
          "base_uri": "https://localhost:8080/"
        },
        "id": "19tG5oa5hApI",
        "outputId": "ce3b7bfc-3431-4757-a49d-5b90a25508bc"
      },
      "execution_count": 19,
      "outputs": [
        {
          "output_type": "stream",
          "name": "stdout",
          "text": [
            "[[1 2]\n",
            " [3 4]]\n"
          ]
        }
      ]
    },
    {
      "cell_type": "code",
      "execution_count": null,
      "metadata": {
        "id": "-ambuHHta-9M",
        "outputId": "b6ba9a85-b70d-42bf-ad84-e5f3c1600dcb"
      },
      "outputs": [
        {
          "name": "stdout",
          "output_type": "stream",
          "text": [
            "Array original: [10 20 30 40 50]\n",
            "Primeiro elemento: 10\n",
            "Último elemento: 50\n",
            "Elementos do índice 1 ao 3: [20 30 40]\n"
          ]
        }
      ],
      "source": [
        "# Indexação em array 1D\n",
        "arr = np.array([10, 20, 30, 40, 50])\n",
        "print(\"Array original:\", arr)\n",
        "print(\"Primeiro elemento:\", arr[0])\n",
        "print(\"Último elemento:\", arr[-1])\n",
        "print(\"Elementos do índice 1 ao 3:\", arr[1:4])"
      ]
    },
    {
      "cell_type": "code",
      "execution_count": null,
      "metadata": {
        "id": "5VWBpcHla-9M",
        "outputId": "8250172b-df69-45e0-9af8-c42f741e0013"
      },
      "outputs": [
        {
          "name": "stdout",
          "output_type": "stream",
          "text": [
            "\n",
            "Matriz original:\n",
            "[[1 2 3]\n",
            " [4 5 6]\n",
            " [7 8 9]]\n",
            "\n",
            "Elemento na linha 1, coluna 2: 6\n",
            "Segunda linha completa: [4 5 6]\n",
            "Primeira coluna: [1 4 7]\n"
          ]
        }
      ],
      "source": [
        "# Indexação em array 2D\n",
        "matriz = np.array([[1, 2, 3],\n",
        "                   [4, 5, 6],\n",
        "                   [7, 8, 9]])\n",
        "print(\"\\nMatriz original:\")\n",
        "print(matriz)\n",
        "print(\"\\nElemento na linha 1, coluna 2:\", matriz[1,2])\n",
        "print(\"Segunda linha completa:\", matriz[1])\n",
        "print(\"Primeira coluna:\", matriz[:,0])"
      ]
    },
    {
      "cell_type": "code",
      "execution_count": null,
      "metadata": {
        "id": "dnBhNTyaa-9M",
        "outputId": "917969cb-8c51-4ac9-9d43-c072c9e94470"
      },
      "outputs": [
        {
          "name": "stdout",
          "output_type": "stream",
          "text": [
            "\n",
            "Array original: [1 2 3 4 5 6 7 8 9]\n",
            "Elementos maiores que 5: [6 7 8 9]\n",
            "Elementos pares: [2 4 6 8]\n"
          ]
        }
      ],
      "source": [
        "# Indexação booleana\n",
        "arr = np.array([1, 2, 3, 4, 5, 6, 7, 8, 9])\n",
        "print(\"\\nArray original:\", arr)\n",
        "print(\"Elementos maiores que 5:\", arr[arr > 5])\n",
        "print(\"Elementos pares:\", arr[arr % 2 == 0])"
      ]
    },
    {
      "cell_type": "code",
      "execution_count": null,
      "metadata": {
        "id": "7bEhkJPta-9N",
        "outputId": "914c72a1-e4c4-45c5-ad13-e7081ea45129"
      },
      "outputs": [
        {
          "name": "stdout",
          "output_type": "stream",
          "text": [
            "Array original: [1 2 3 4 5]\n"
          ]
        }
      ],
      "source": [
        "# Manipulação de Arrays\n",
        "\n",
        "# Criando um array exemplo\n",
        "arr = np.array([1, 2, 3, 4, 5])\n",
        "print(\"Array original:\", arr)"
      ]
    },
    {
      "cell_type": "markdown",
      "metadata": {
        "id": "jiZ4XkI7a-9N"
      },
      "source": [
        "## Operações matemáticas com Numpy"
      ]
    },
    {
      "cell_type": "code",
      "execution_count": null,
      "metadata": {
        "id": "i4qm9iEza-9N",
        "outputId": "3af5a0fe-73e7-4db9-8501-c22036c05e91"
      },
      "outputs": [
        {
          "name": "stdout",
          "output_type": "stream",
          "text": [
            "\n",
            "Array + 2: [3 4 5 6 7]\n",
            "Array * 3: [ 3  6  9 12 15]\n",
            "Array ao quadrado: [ 1  4  9 16 25]\n"
          ]
        }
      ],
      "source": [
        "# Operações aritméticas com arrays\n",
        "print(\"\\nArray + 2:\", arr + 2)\n",
        "print(\"Array * 3:\", arr * 3)\n",
        "print(\"Array ao quadrado:\", arr ** 2)"
      ]
    },
    {
      "cell_type": "code",
      "execution_count": null,
      "metadata": {
        "id": "blLtIrQga-9N",
        "outputId": "3c76ac87-ce5f-4714-854a-6a7c270143ea"
      },
      "outputs": [
        {
          "name": "stdout",
          "output_type": "stream",
          "text": [
            "\n",
            "Raiz quadrada: [1.         1.41421356 1.73205081 2.         2.23606798]\n",
            "Exponencial: [  2.71828183   7.3890561   20.08553692  54.59815003 148.4131591 ]\n",
            "Seno: [ 0.84147098  0.90929743  0.14112001 -0.7568025  -0.95892427]\n"
          ]
        }
      ],
      "source": [
        "# Funções matemáticas\n",
        "print(\"\\nRaiz quadrada:\", np.sqrt(arr))\n",
        "print(\"Exponencial:\", np.exp(arr))\n",
        "print(\"Seno:\", np.sin(arr))"
      ]
    },
    {
      "cell_type": "markdown",
      "metadata": {
        "id": "-ZyykcVJa-9O"
      },
      "source": [
        "## Estatísticas básicas com Numpy"
      ]
    },
    {
      "cell_type": "code",
      "execution_count": null,
      "metadata": {
        "id": "l0X-2mRra-9O",
        "outputId": "4131bda7-baab-4142-82a0-d0d3db4edfc3"
      },
      "outputs": [
        {
          "name": "stdout",
          "output_type": "stream",
          "text": [
            "\n",
            "Média: 3.0\n",
            "Desvio padrão: 1.4142135623730951\n",
            "Valor máximo: 5\n",
            "Valor mínimo: 1\n"
          ]
        }
      ],
      "source": [
        "# Estatísticas básicas\n",
        "print(\"\\nMédia:\", np.mean(arr))\n",
        "print(\"Desvio padrão:\", np.std(arr))\n",
        "print(\"Valor máximo:\", np.max(arr))\n",
        "print(\"Valor mínimo:\", np.min(arr))"
      ]
    },
    {
      "cell_type": "markdown",
      "metadata": {
        "id": "plIxtrKoa-9O"
      },
      "source": [
        "## Outras manipulações"
      ]
    },
    {
      "cell_type": "code",
      "execution_count": null,
      "metadata": {
        "id": "E4CNE48da-9O",
        "outputId": "12ce69f3-30cc-4773-f47e-a01eb4e3171b"
      },
      "outputs": [
        {
          "name": "stdout",
          "output_type": "stream",
          "text": [
            "\n",
            "Matriz original:\n",
            "[[1 2 3]\n",
            " [4 5 6]]\n",
            "\n",
            "Matriz transposta:\n",
            "[[1 4]\n",
            " [2 5]\n",
            " [3 6]]\n"
          ]
        }
      ],
      "source": [
        "# Transposição\n",
        "matriz = np.array([[1, 2, 3],\n",
        "                   [4, 5, 6]])\n",
        "print(\"\\nMatriz original:\")\n",
        "print(matriz)\n",
        "print(\"\\nMatriz transposta:\")\n",
        "print(matriz.T)"
      ]
    },
    {
      "cell_type": "code",
      "source": [
        "# Shape\n",
        "\n",
        "arr = np.array([[1, 2, 3, 4], [5, 6, 7, 8]])\n",
        "\n",
        "print(arr.shape)\n"
      ],
      "metadata": {
        "colab": {
          "base_uri": "https://localhost:8080/"
        },
        "id": "mrSkHTE1f8vQ",
        "outputId": "385f3c63-5235-46af-81f1-954ad21c1cbf"
      },
      "execution_count": 9,
      "outputs": [
        {
          "output_type": "stream",
          "name": "stdout",
          "text": [
            "(2, 4)\n"
          ]
        }
      ]
    },
    {
      "cell_type": "code",
      "source": [
        "# Reshape 1D -> 2D\n",
        "\n",
        "arr = np.array([1, 2, 3, 4, 5, 6, 7, 8, 9, 10, 11, 12])\n",
        "\n",
        "newarr = arr.reshape(4, 3)\n",
        "\n",
        "print(newarr)\n"
      ],
      "metadata": {
        "colab": {
          "base_uri": "https://localhost:8080/"
        },
        "id": "c7Z0qaEBfnwg",
        "outputId": "14fc14e7-4874-485a-a509-49b9e36483e1"
      },
      "execution_count": 7,
      "outputs": [
        {
          "output_type": "stream",
          "name": "stdout",
          "text": [
            "[[ 1  2  3]\n",
            " [ 4  5  6]\n",
            " [ 7  8  9]\n",
            " [10 11 12]]\n"
          ]
        }
      ]
    },
    {
      "cell_type": "code",
      "execution_count": null,
      "metadata": {
        "id": "0N-YLwlna-9O",
        "outputId": "1f4281d5-4824-4590-e436-01d9d23c58af"
      },
      "outputs": [
        {
          "name": "stdout",
          "output_type": "stream",
          "text": [
            "\n",
            "Concatenação horizontal: [1 2 3 4 5 6]\n",
            "Concatenação vertical: [[1 2 3]\n",
            " [4 5 6]]\n"
          ]
        }
      ],
      "source": [
        "# Concatenação de arrays\n",
        "arr1 = np.array([1, 2, 3])\n",
        "arr2 = np.array([4, 5, 6])\n",
        "print(\"\\nConcatenação horizontal:\", np.hstack((arr1, arr2)))\n",
        "print(\"Concatenação vertical:\", np.vstack((arr1, arr2)))"
      ]
    },
    {
      "cell_type": "code",
      "source": [
        "# Amostras e população - Split\n",
        "\n",
        "arr = np.array([1, 2, 3, 4, 5, 6])\n",
        "\n",
        "newarr = np.array_split(arr, 3)\n",
        "\n",
        "print(newarr)"
      ],
      "metadata": {
        "colab": {
          "base_uri": "https://localhost:8080/"
        },
        "id": "3uMDB9oweufS",
        "outputId": "ab47f279-2320-4062-a2db-6b0a24ea9e1e"
      },
      "execution_count": 2,
      "outputs": [
        {
          "output_type": "stream",
          "name": "stdout",
          "text": [
            "[array([1, 2]), array([3, 4]), array([5, 6])]\n"
          ]
        }
      ]
    },
    {
      "cell_type": "code",
      "source": [
        "# Loop em arrays 1D\n",
        "\n",
        "arr = np.array([1, 2, 3])\n",
        "\n",
        "for x in arr:\n",
        "  print(x)"
      ],
      "metadata": {
        "colab": {
          "base_uri": "https://localhost:8080/"
        },
        "id": "BVSuMxcve53v",
        "outputId": "74000430-9879-4660-fb09-6d5e6795eca8"
      },
      "execution_count": 4,
      "outputs": [
        {
          "output_type": "stream",
          "name": "stdout",
          "text": [
            "1\n",
            "2\n",
            "3\n"
          ]
        }
      ]
    },
    {
      "cell_type": "code",
      "source": [
        "# Loop em arrays 2D\n",
        "\n",
        "\n",
        "arr = np.array([[1, 2, 3], [4, 5, 6]])\n",
        "\n",
        "for x in arr:\n",
        "  for y in x:\n",
        "    print(y)"
      ],
      "metadata": {
        "colab": {
          "base_uri": "https://localhost:8080/"
        },
        "id": "ougqDBnQe_Nz",
        "outputId": "2b2f7606-2c2d-4af7-e161-cf9045a51d18"
      },
      "execution_count": 5,
      "outputs": [
        {
          "output_type": "stream",
          "name": "stdout",
          "text": [
            "1\n",
            "2\n",
            "3\n",
            "4\n",
            "5\n",
            "6\n"
          ]
        }
      ]
    },
    {
      "cell_type": "markdown",
      "source": [
        "## Filtros"
      ],
      "metadata": {
        "id": "3zFMLJvugG8T"
      }
    },
    {
      "cell_type": "code",
      "source": [
        "\n",
        "arr = np.array([41, 42, 43, 44])\n",
        "\n",
        "# Create an empty list\n",
        "filter_arr = []\n",
        "\n",
        "# go through each element in arr\n",
        "for element in arr:\n",
        "  # if the element is higher than 42, set the value to True, otherwise False:\n",
        "  if element > 42:\n",
        "    filter_arr.append(True)\n",
        "  else:\n",
        "    filter_arr.append(False)\n",
        "\n",
        "newarr = arr[filter_arr]\n",
        "\n",
        "print(filter_arr)\n",
        "print(newarr)"
      ],
      "metadata": {
        "colab": {
          "base_uri": "https://localhost:8080/"
        },
        "id": "3ILX0wohfH33",
        "outputId": "d62ea090-ac23-4e59-e1d0-9f73ca147245"
      },
      "execution_count": 10,
      "outputs": [
        {
          "output_type": "stream",
          "name": "stdout",
          "text": [
            "[False, False, True, True]\n",
            "[43 44]\n"
          ]
        }
      ]
    },
    {
      "cell_type": "code",
      "source": [
        "\n",
        "arr = np.array([1, 2, 3, 4, 5, 6, 7])\n",
        "\n",
        "# Create an empty list\n",
        "filter_arr = []\n",
        "\n",
        "# go through each element in arr\n",
        "for element in arr:\n",
        "  # if the element is completely divisble by 2, set the value to True, otherwise False\n",
        "  if element % 2 == 0:\n",
        "    filter_arr.append(True)\n",
        "  else:\n",
        "    filter_arr.append(False)\n",
        "\n",
        "newarr = arr[filter_arr]\n",
        "\n",
        "print(filter_arr)\n",
        "print(newarr)"
      ],
      "metadata": {
        "colab": {
          "base_uri": "https://localhost:8080/"
        },
        "id": "a3aQqMtFgfjY",
        "outputId": "f79db19b-5cb3-4c83-df21-4fed233cfd99"
      },
      "execution_count": 11,
      "outputs": [
        {
          "output_type": "stream",
          "name": "stdout",
          "text": [
            "[False, True, False, True, False, True, False]\n",
            "[2 4 6]\n"
          ]
        }
      ]
    },
    {
      "cell_type": "code",
      "source": [
        "\n",
        "arr = np.array([41, 42, 43, 44])\n",
        "\n",
        "filter_arr = arr > 42\n",
        "\n",
        "newarr = arr[filter_arr]\n",
        "\n",
        "print(filter_arr)\n",
        "print(newarr)"
      ],
      "metadata": {
        "colab": {
          "base_uri": "https://localhost:8080/"
        },
        "id": "_QmrgiGFgxxN",
        "outputId": "a6ef581b-74dc-48cb-894d-a56f5d5af6e3"
      },
      "execution_count": 12,
      "outputs": [
        {
          "output_type": "stream",
          "name": "stdout",
          "text": [
            "[False False  True  True]\n",
            "[43 44]\n"
          ]
        }
      ]
    },
    {
      "cell_type": "code",
      "source": [
        "\n",
        "arr = np.array([1, 2, 3, 4, 5, 6, 7])\n",
        "\n",
        "filter_arr = arr % 2 == 0\n",
        "\n",
        "newarr = arr[filter_arr]\n",
        "\n",
        "print(filter_arr)\n",
        "print(newarr)"
      ],
      "metadata": {
        "colab": {
          "base_uri": "https://localhost:8080/"
        },
        "id": "zby9eii8g0HQ",
        "outputId": "0bb9a5a7-41ab-4646-c7fe-f88f35bc0445"
      },
      "execution_count": 13,
      "outputs": [
        {
          "output_type": "stream",
          "name": "stdout",
          "text": [
            "[False  True False  True False  True False]\n",
            "[2 4 6]\n"
          ]
        }
      ]
    },
    {
      "cell_type": "code",
      "source": [],
      "metadata": {
        "id": "LMZZ1jnCg1Zm"
      },
      "execution_count": null,
      "outputs": []
    },
    {
      "cell_type": "markdown",
      "source": [
        "Aqui estão algumas bibliotecas populares que são baseadas no **NumPy** e usam ele \"por debaixo dos panos\", oferecendo funcionalidades e abstrações mais específicas:\n",
        "\n",
        "### 1. **Pandas**\n",
        "   - **Descrição**: O Pandas é uma biblioteca poderosa para manipulação de dados. Ele usa o NumPy para suas estruturas de dados subjacentes (`Series` e `DataFrame`), proporcionando operações eficientes em grandes volumes de dados.\n",
        "   - **Uso do NumPy**: Pandas usa arrays NumPy para armazenar dados em suas `Series` e `DataFrame`. Internamente, muitas operações no Pandas são baseadas em funções do NumPy.\n",
        "   - **Link**: [Pandas](https://pandas.pydata.org/)\n",
        "\n",
        "### 2. **SciPy**\n",
        "   - **Descrição**: A SciPy é uma biblioteca científica que oferece muitas funções matemáticas, como álgebra linear, integração, otimização, entre outras.\n",
        "   - **Uso do NumPy**: O SciPy depende fortemente do NumPy para arrays e operações numéricas eficientes, além de estender essas operações com funcionalidades adicionais.\n",
        "   - **Link**: [SciPy](https://www.scipy.org/)\n",
        "\n",
        "### 3. **Matplotlib**\n",
        "   - **Descrição**: Matplotlib é uma biblioteca popular para criação de gráficos e visualizações.\n",
        "   - **Uso do NumPy**: Para criar visualizações, o Matplotlib frequentemente usa arrays do NumPy para representar dados numéricos e manipular gráficos.\n",
        "   - **Link**: [Matplotlib](https://matplotlib.org/)\n",
        "\n",
        "### 4. **Scikit-learn**\n",
        "   - **Descrição**: A Scikit-learn é uma das bibliotecas mais populares para aprendizado de máquina em Python, oferecendo implementações de modelos de classificação, regressão, clustering, etc.\n",
        "   - **Uso do NumPy**: O Scikit-learn usa o NumPy para manipulação eficiente de arrays de dados, bem como para cálculos numéricos durante o treinamento e a predição de modelos.\n",
        "   - **Link**: [Scikit-learn](https://scikit-learn.org/)\n",
        "\n",
        "### 5. **CuPy**\n",
        "   - **Descrição**: CuPy é uma biblioteca que oferece funções semelhantes ao NumPy, mas com suporte para operações em GPUs usando CUDA. Ela permite acelerar computações numéricas em dispositivos gráficos.\n",
        "   - **Uso do NumPy**: A API do CuPy é muito similar à do NumPy, mas as operações são realizadas usando GPUs, utilizando o PyCUDA internamente.\n",
        "   - **Link**: [CuPy](https://cupy.dev/)\n",
        "\n",
        "### 6. **TensorFlow**\n",
        "   - **Descrição**: O TensorFlow é uma das bibliotecas mais conhecidas para aprendizado profundo e redes neurais, embora também seja usado para outras tarefas de aprendizado de máquina.\n",
        "   - **Uso do NumPy**: O TensorFlow usa arrays do NumPy para representar dados de entrada e saída, embora ele tenha sua própria abstração (tensores). Algumas operações podem ser realizadas diretamente usando o NumPy no TensorFlow.\n",
        "   - **Link**: [TensorFlow](https://www.tensorflow.org/)\n",
        "\n",
        "### 7. **PyTorch**\n",
        "   - **Descrição**: PyTorch é outra biblioteca muito popular para aprendizado profundo, similar ao TensorFlow. Ele também oferece uma abstração de tensor para cálculos eficientes, especialmente em GPUs.\n",
        "   - **Uso do NumPy**: PyTorch tem integração com o NumPy, e muitas vezes você pode converter entre tensores do PyTorch e arrays do NumPy de forma transparente.\n",
        "   - **Link**: [PyTorch](https://pytorch.org/)\n",
        "\n",
        "### 8. **SymPy**\n",
        "   - **Descrição**: SymPy é uma biblioteca de álgebra computacional, permitindo computações simbólicas e simbólicas-numéricas.\n",
        "   - **Uso do NumPy**: O SymPy pode usar o NumPy internamente para operações numéricas quando realiza computações simbólicas em que números reais ou complexos são envolvidos.\n",
        "   - **Link**: [SymPy](https://www.sympy.org/)\n",
        "\n",
        "### 9. **xarray**\n",
        "   - **Descrição**: xarray é uma biblioteca que estende a funcionalidade do Pandas para trabalhar com dados multidimensionais (como arrays de mais de duas dimensões) de maneira eficiente.\n",
        "   - **Uso do NumPy**: A estrutura de dados `DataArray` do xarray é baseada no NumPy, oferecendo operações semelhantes a arrays, mas com suporte a metadados adicionais e coordenação de eixos.\n",
        "   - **Link**: [xarray](http://xarray.pydata.org/)\n",
        "\n",
        "### 10. **Dask**\n",
        "   - **Descrição**: Dask é uma biblioteca que permite computação paralela e distribuída em Python, especialmente útil para processamento de grandes volumes de dados.\n",
        "   - **Uso do NumPy**: Dask usa arrays do NumPy para representar dados, mas com suporte para processamento paralelo e distribuição em clusters, o que permite lidar com dados maiores do que a memória local.\n",
        "   - **Link**: [Dask](https://dask.org/)\n",
        "\n",
        "Essas bibliotecas são algumas das mais conhecidas que utilizam o NumPy em suas implementações internas, mas muitas outras também podem depender dele, dado que o NumPy oferece uma base sólida para operações numéricas de baixo nível."
      ],
      "metadata": {
        "id": "sCDgZyqmikZn"
      }
    },
    {
      "cell_type": "code",
      "source": [],
      "metadata": {
        "id": "pKJfM83wik0v"
      },
      "execution_count": null,
      "outputs": []
    }
  ],
  "metadata": {
    "kernelspec": {
      "display_name": "Python 3",
      "language": "python",
      "name": "python3"
    },
    "language_info": {
      "codemirror_mode": {
        "name": "ipython",
        "version": 3
      },
      "file_extension": ".py",
      "mimetype": "text/x-python",
      "name": "python",
      "nbconvert_exporter": "python",
      "pygments_lexer": "ipython3",
      "version": "3.13.2"
    },
    "colab": {
      "provenance": []
    }
  },
  "nbformat": 4,
  "nbformat_minor": 0
}
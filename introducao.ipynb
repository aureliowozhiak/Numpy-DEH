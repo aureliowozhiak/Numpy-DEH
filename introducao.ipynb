{
 "cells": [
  {
   "cell_type": "markdown",
   "metadata": {},
   "source": [
    "# O que é Numpy e sua importância na análise de dados"
   ]
  },
  {
   "cell_type": "code",
   "execution_count": 3,
   "metadata": {},
   "outputs": [],
   "source": [
    "import numpy as np"
   ]
  },
  {
   "cell_type": "code",
   "execution_count": 4,
   "metadata": {},
   "outputs": [
    {
     "name": "stdout",
     "output_type": "stream",
     "text": [
      "Original array: [1 2 3 4 5]\n",
      "Array mean: 3.0\n",
      "Array sum: 15\n",
      "Array squared: [ 1  4  9 16 25]\n",
      "\n",
      "2D array:\n",
      "[[1 2 3]\n",
      " [4 5 6]\n",
      " [7 8 9]]\n",
      "Matrix transpose:\n",
      "[[1 4 7]\n",
      " [2 5 8]\n",
      " [3 6 9]]\n"
     ]
    }
   ],
   "source": [
    "# Create a sample array\n",
    "arr = np.array([1, 2, 3, 4, 5])\n",
    "\n",
    "# Perform some basic operations\n",
    "print(\"Original array:\", arr) # imprime o array original\n",
    "print(\"Array mean:\", np.mean(arr)) # imprime a média do array\n",
    "print(\"Array sum:\", np.sum(arr)) # imprime a soma do array\n",
    "print(\"Array squared:\", np.square(arr)) # imprime o array elevado ao quadrado\n",
    "\n",
    "# Create a 2D array\n",
    "matrix = np.array([[1, 2, 3],\n",
    "                   [4, 5, 6],\n",
    "                   [7, 8, 9]])\n",
    "\n",
    "print(\"\\n2D array:\")\n",
    "print(matrix) # imprime o array 2D - matriz\n",
    "print(\"Matrix transpose:\")\n",
    "print(matrix.T) # imprime a transposta da matriz\n"
   ]
  },
  {
   "cell_type": "code",
   "execution_count": null,
   "metadata": {},
   "outputs": [],
   "source": []
  }
 ],
 "metadata": {
  "kernelspec": {
   "display_name": "Python 3",
   "language": "python",
   "name": "python3"
  },
  "language_info": {
   "codemirror_mode": {
    "name": "ipython",
    "version": 3
   },
   "file_extension": ".py",
   "mimetype": "text/x-python",
   "name": "python",
   "nbconvert_exporter": "python",
   "pygments_lexer": "ipython3",
   "version": "3.13.2"
  }
 },
 "nbformat": 4,
 "nbformat_minor": 2
}
